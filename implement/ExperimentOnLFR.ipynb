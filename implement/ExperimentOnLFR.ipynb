{
 "cells": [
  {
   "cell_type": "code",
   "execution_count": 188,
   "id": "f551339a",
   "metadata": {},
   "outputs": [],
   "source": [
    "n = 30000\n",
    "tau1 = 3\n",
    "tau2 = 1.5\n",
    "mu = 0.1\n",
    "network = LFR_benchmark_graph(\n",
    "    n, tau1, tau2, mu, average_degree=5, min_community=20, seed=10\n",
    ")"
   ]
  },
  {
   "cell_type": "code",
   "execution_count": 185,
   "id": "03a431f5",
   "metadata": {},
   "outputs": [
    {
     "name": "stdout",
     "output_type": "stream",
     "text": [
      "0.5625886917114258\n"
     ]
    }
   ],
   "source": [
    "start_time1 = time.time()\n",
    "result = revised_girvan(network)\n",
    "communities = next(result)\n",
    "print((time.time() - start_time1))"
   ]
  },
  {
   "cell_type": "code",
   "execution_count": 217,
   "id": "b1c132cb",
   "metadata": {
    "scrolled": true
   },
   "outputs": [
    {
     "ename": "KeyboardInterrupt",
     "evalue": "",
     "output_type": "error",
     "traceback": [
      "\u001b[1;31m---------------------------------------------------------------------------\u001b[0m",
      "\u001b[1;31mKeyboardInterrupt\u001b[0m                         Traceback (most recent call last)",
      "\u001b[1;32m~\\AppData\\Local\\Temp/ipykernel_32/2376385335.py\u001b[0m in \u001b[0;36m<module>\u001b[1;34m\u001b[0m\n\u001b[0;32m      6\u001b[0m     \u001b[0mtau1\u001b[0m \u001b[1;33m=\u001b[0m \u001b[1;36m3\u001b[0m\u001b[1;33m\u001b[0m\u001b[1;33m\u001b[0m\u001b[0m\n\u001b[0;32m      7\u001b[0m     \u001b[0mtau2\u001b[0m \u001b[1;33m=\u001b[0m \u001b[1;36m1.5\u001b[0m\u001b[1;33m\u001b[0m\u001b[1;33m\u001b[0m\u001b[0m\n\u001b[1;32m----> 8\u001b[1;33m     network = LFR_benchmark_graph(\n\u001b[0m\u001b[0;32m      9\u001b[0m         \u001b[0mn\u001b[0m\u001b[1;33m,\u001b[0m \u001b[0mtau1\u001b[0m\u001b[1;33m,\u001b[0m \u001b[0mtau2\u001b[0m\u001b[1;33m,\u001b[0m \u001b[0mmu\u001b[0m\u001b[1;33m,\u001b[0m \u001b[0maverage_degree\u001b[0m\u001b[1;33m=\u001b[0m\u001b[1;36m5\u001b[0m\u001b[1;33m,\u001b[0m \u001b[0mmin_community\u001b[0m\u001b[1;33m=\u001b[0m\u001b[1;36m30\u001b[0m\u001b[1;33m,\u001b[0m \u001b[0mseed\u001b[0m\u001b[1;33m=\u001b[0m\u001b[1;36m10\u001b[0m\u001b[1;33m\u001b[0m\u001b[1;33m\u001b[0m\u001b[0m\n\u001b[0;32m     10\u001b[0m     )\n",
      "\u001b[1;32m~\\anaconda3\\lib\\site-packages\\networkx\\utils\\decorators.py\u001b[0m in \u001b[0;36margmap_LFR_benchmark_graph_17\u001b[1;34m(n, tau1, tau2, mu, average_degree, min_degree, max_degree, min_community, max_community, tol, max_iters, seed)\u001b[0m\n\u001b[0;32m      2\u001b[0m \u001b[1;32mfrom\u001b[0m \u001b[0mos\u001b[0m\u001b[1;33m.\u001b[0m\u001b[0mpath\u001b[0m \u001b[1;32mimport\u001b[0m \u001b[0msplitext\u001b[0m\u001b[1;33m\u001b[0m\u001b[1;33m\u001b[0m\u001b[0m\n\u001b[0;32m      3\u001b[0m \u001b[1;32mfrom\u001b[0m \u001b[0mcontextlib\u001b[0m \u001b[1;32mimport\u001b[0m \u001b[0mcontextmanager\u001b[0m\u001b[1;33m\u001b[0m\u001b[1;33m\u001b[0m\u001b[0m\n\u001b[1;32m----> 4\u001b[1;33m \u001b[1;32mfrom\u001b[0m \u001b[0mpathlib\u001b[0m \u001b[1;32mimport\u001b[0m \u001b[0mPath\u001b[0m\u001b[1;33m\u001b[0m\u001b[1;33m\u001b[0m\u001b[0m\n\u001b[0m\u001b[0;32m      5\u001b[0m \u001b[1;32mimport\u001b[0m \u001b[0mwarnings\u001b[0m\u001b[1;33m\u001b[0m\u001b[1;33m\u001b[0m\u001b[0m\n\u001b[0;32m      6\u001b[0m \u001b[1;33m\u001b[0m\u001b[0m\n",
      "\u001b[1;32m~\\anaconda3\\lib\\site-packages\\networkx\\generators\\community.py\u001b[0m in \u001b[0;36mLFR_benchmark_graph\u001b[1;34m(n, tau1, tau2, mu, average_degree, min_degree, max_degree, min_community, max_community, tol, max_iters, seed)\u001b[0m\n\u001b[0;32m   1037\u001b[0m         \u001b[1;32mreturn\u001b[0m \u001b[0msum\u001b[0m\u001b[1;33m(\u001b[0m\u001b[0mseq\u001b[0m\u001b[1;33m)\u001b[0m \u001b[1;33m>=\u001b[0m \u001b[0mn\u001b[0m\u001b[1;33m\u001b[0m\u001b[1;33m\u001b[0m\u001b[0m\n\u001b[0;32m   1038\u001b[0m \u001b[1;33m\u001b[0m\u001b[0m\n\u001b[1;32m-> 1039\u001b[1;33m     \u001b[0mcomms\u001b[0m \u001b[1;33m=\u001b[0m \u001b[0m_powerlaw_sequence\u001b[0m\u001b[1;33m(\u001b[0m\u001b[0mtau2\u001b[0m\u001b[1;33m,\u001b[0m \u001b[0mlow\u001b[0m\u001b[1;33m,\u001b[0m \u001b[0mhigh\u001b[0m\u001b[1;33m,\u001b[0m \u001b[0mcondition\u001b[0m\u001b[1;33m,\u001b[0m \u001b[0mlength\u001b[0m\u001b[1;33m,\u001b[0m \u001b[0mmax_iters\u001b[0m\u001b[1;33m,\u001b[0m \u001b[0mseed\u001b[0m\u001b[1;33m)\u001b[0m\u001b[1;33m\u001b[0m\u001b[1;33m\u001b[0m\u001b[0m\n\u001b[0m\u001b[0;32m   1040\u001b[0m \u001b[1;33m\u001b[0m\u001b[0m\n\u001b[0;32m   1041\u001b[0m     \u001b[1;31m# Generate the communities based on the given degree sequence and\u001b[0m\u001b[1;33m\u001b[0m\u001b[1;33m\u001b[0m\u001b[0m\n",
      "\u001b[1;32m~\\anaconda3\\lib\\site-packages\\networkx\\generators\\community.py\u001b[0m in \u001b[0;36m_powerlaw_sequence\u001b[1;34m(gamma, low, high, condition, length, max_iters, seed)\u001b[0m\n\u001b[0;32m    692\u001b[0m         \u001b[0mseq\u001b[0m \u001b[1;33m=\u001b[0m \u001b[1;33m[\u001b[0m\u001b[1;33m]\u001b[0m\u001b[1;33m\u001b[0m\u001b[1;33m\u001b[0m\u001b[0m\n\u001b[0;32m    693\u001b[0m         \u001b[1;32mwhile\u001b[0m \u001b[1;32mnot\u001b[0m \u001b[0mlength\u001b[0m\u001b[1;33m(\u001b[0m\u001b[0mseq\u001b[0m\u001b[1;33m)\u001b[0m\u001b[1;33m:\u001b[0m\u001b[1;33m\u001b[0m\u001b[1;33m\u001b[0m\u001b[0m\n\u001b[1;32m--> 694\u001b[1;33m             \u001b[0mseq\u001b[0m\u001b[1;33m.\u001b[0m\u001b[0mappend\u001b[0m\u001b[1;33m(\u001b[0m\u001b[0m_zipf_rv_below\u001b[0m\u001b[1;33m(\u001b[0m\u001b[0mgamma\u001b[0m\u001b[1;33m,\u001b[0m \u001b[0mlow\u001b[0m\u001b[1;33m,\u001b[0m \u001b[0mhigh\u001b[0m\u001b[1;33m,\u001b[0m \u001b[0mseed\u001b[0m\u001b[1;33m)\u001b[0m\u001b[1;33m)\u001b[0m\u001b[1;33m\u001b[0m\u001b[1;33m\u001b[0m\u001b[0m\n\u001b[0m\u001b[0;32m    695\u001b[0m         \u001b[1;32mif\u001b[0m \u001b[0mcondition\u001b[0m\u001b[1;33m(\u001b[0m\u001b[0mseq\u001b[0m\u001b[1;33m)\u001b[0m\u001b[1;33m:\u001b[0m\u001b[1;33m\u001b[0m\u001b[1;33m\u001b[0m\u001b[0m\n\u001b[0;32m    696\u001b[0m             \u001b[1;32mreturn\u001b[0m \u001b[0mseq\u001b[0m\u001b[1;33m\u001b[0m\u001b[1;33m\u001b[0m\u001b[0m\n",
      "\u001b[1;32m~\\anaconda3\\lib\\site-packages\\networkx\\generators\\community.py\u001b[0m in \u001b[0;36m_zipf_rv_below\u001b[1;34m(gamma, xmin, threshold, seed)\u001b[0m\n\u001b[0;32m    663\u001b[0m     \u001b[0mresult\u001b[0m \u001b[1;33m=\u001b[0m \u001b[0mnx\u001b[0m\u001b[1;33m.\u001b[0m\u001b[0mutils\u001b[0m\u001b[1;33m.\u001b[0m\u001b[0mzipf_rv\u001b[0m\u001b[1;33m(\u001b[0m\u001b[0mgamma\u001b[0m\u001b[1;33m,\u001b[0m \u001b[0mxmin\u001b[0m\u001b[1;33m,\u001b[0m \u001b[0mseed\u001b[0m\u001b[1;33m)\u001b[0m\u001b[1;33m\u001b[0m\u001b[1;33m\u001b[0m\u001b[0m\n\u001b[0;32m    664\u001b[0m     \u001b[1;32mwhile\u001b[0m \u001b[0mresult\u001b[0m \u001b[1;33m>\u001b[0m \u001b[0mthreshold\u001b[0m\u001b[1;33m:\u001b[0m\u001b[1;33m\u001b[0m\u001b[1;33m\u001b[0m\u001b[0m\n\u001b[1;32m--> 665\u001b[1;33m         \u001b[0mresult\u001b[0m \u001b[1;33m=\u001b[0m \u001b[0mnx\u001b[0m\u001b[1;33m.\u001b[0m\u001b[0mutils\u001b[0m\u001b[1;33m.\u001b[0m\u001b[0mzipf_rv\u001b[0m\u001b[1;33m(\u001b[0m\u001b[0mgamma\u001b[0m\u001b[1;33m,\u001b[0m \u001b[0mxmin\u001b[0m\u001b[1;33m,\u001b[0m \u001b[0mseed\u001b[0m\u001b[1;33m)\u001b[0m\u001b[1;33m\u001b[0m\u001b[1;33m\u001b[0m\u001b[0m\n\u001b[0m\u001b[0;32m    666\u001b[0m     \u001b[1;32mreturn\u001b[0m \u001b[0mresult\u001b[0m\u001b[1;33m\u001b[0m\u001b[1;33m\u001b[0m\u001b[0m\n\u001b[0;32m    667\u001b[0m \u001b[1;33m\u001b[0m\u001b[0m\n",
      "\u001b[1;32m~\\anaconda3\\lib\\site-packages\\networkx\\utils\\decorators.py\u001b[0m in \u001b[0;36margmap_zipf_rv_21\u001b[1;34m(alpha, xmin, seed)\u001b[0m\n\u001b[0;32m      2\u001b[0m \u001b[1;32mfrom\u001b[0m \u001b[0mos\u001b[0m\u001b[1;33m.\u001b[0m\u001b[0mpath\u001b[0m \u001b[1;32mimport\u001b[0m \u001b[0msplitext\u001b[0m\u001b[1;33m\u001b[0m\u001b[1;33m\u001b[0m\u001b[0m\n\u001b[0;32m      3\u001b[0m \u001b[1;32mfrom\u001b[0m \u001b[0mcontextlib\u001b[0m \u001b[1;32mimport\u001b[0m \u001b[0mcontextmanager\u001b[0m\u001b[1;33m\u001b[0m\u001b[1;33m\u001b[0m\u001b[0m\n\u001b[1;32m----> 4\u001b[1;33m \u001b[1;32mfrom\u001b[0m \u001b[0mpathlib\u001b[0m \u001b[1;32mimport\u001b[0m \u001b[0mPath\u001b[0m\u001b[1;33m\u001b[0m\u001b[1;33m\u001b[0m\u001b[0m\n\u001b[0m\u001b[0;32m      5\u001b[0m \u001b[1;32mimport\u001b[0m \u001b[0mwarnings\u001b[0m\u001b[1;33m\u001b[0m\u001b[1;33m\u001b[0m\u001b[0m\n\u001b[0;32m      6\u001b[0m \u001b[1;33m\u001b[0m\u001b[0m\n",
      "\u001b[1;32m~\\anaconda3\\lib\\site-packages\\networkx\\utils\\random_sequence.py\u001b[0m in \u001b[0;36mzipf_rv\u001b[1;34m(alpha, xmin, seed)\u001b[0m\n\u001b[0;32m     91\u001b[0m         \u001b[0mx\u001b[0m \u001b[1;33m=\u001b[0m \u001b[0mint\u001b[0m\u001b[1;33m(\u001b[0m\u001b[0mxmin\u001b[0m \u001b[1;33m*\u001b[0m \u001b[0mu\u001b[0m \u001b[1;33m**\u001b[0m \u001b[1;33m-\u001b[0m\u001b[1;33m(\u001b[0m\u001b[1;36m1.0\u001b[0m \u001b[1;33m/\u001b[0m \u001b[0ma1\u001b[0m\u001b[1;33m)\u001b[0m\u001b[1;33m)\u001b[0m\u001b[1;33m\u001b[0m\u001b[1;33m\u001b[0m\u001b[0m\n\u001b[0;32m     92\u001b[0m         \u001b[0mt\u001b[0m \u001b[1;33m=\u001b[0m \u001b[1;33m(\u001b[0m\u001b[1;36m1.0\u001b[0m \u001b[1;33m+\u001b[0m \u001b[1;33m(\u001b[0m\u001b[1;36m1.0\u001b[0m \u001b[1;33m/\u001b[0m \u001b[0mx\u001b[0m\u001b[1;33m)\u001b[0m\u001b[1;33m)\u001b[0m \u001b[1;33m**\u001b[0m \u001b[0ma1\u001b[0m\u001b[1;33m\u001b[0m\u001b[1;33m\u001b[0m\u001b[0m\n\u001b[1;32m---> 93\u001b[1;33m         \u001b[1;32mif\u001b[0m \u001b[0mv\u001b[0m \u001b[1;33m*\u001b[0m \u001b[0mx\u001b[0m \u001b[1;33m*\u001b[0m \u001b[1;33m(\u001b[0m\u001b[0mt\u001b[0m \u001b[1;33m-\u001b[0m \u001b[1;36m1.0\u001b[0m\u001b[1;33m)\u001b[0m \u001b[1;33m/\u001b[0m \u001b[1;33m(\u001b[0m\u001b[0mb\u001b[0m \u001b[1;33m-\u001b[0m \u001b[1;36m1.0\u001b[0m\u001b[1;33m)\u001b[0m \u001b[1;33m<=\u001b[0m \u001b[0mt\u001b[0m \u001b[1;33m/\u001b[0m \u001b[0mb\u001b[0m\u001b[1;33m:\u001b[0m\u001b[1;33m\u001b[0m\u001b[1;33m\u001b[0m\u001b[0m\n\u001b[0m\u001b[0;32m     94\u001b[0m             \u001b[1;32mbreak\u001b[0m\u001b[1;33m\u001b[0m\u001b[1;33m\u001b[0m\u001b[0m\n\u001b[0;32m     95\u001b[0m     \u001b[1;32mreturn\u001b[0m \u001b[0mx\u001b[0m\u001b[1;33m\u001b[0m\u001b[1;33m\u001b[0m\u001b[0m\n",
      "\u001b[1;31mKeyboardInterrupt\u001b[0m: "
     ]
    }
   ],
   "source": [
    "mus1 = []\n",
    "exec_times1 = []\n",
    "mu = 0.1\n",
    "for i in range(59):\n",
    "    n = 250\n",
    "    tau1 = 3\n",
    "    tau2 = 1.5\n",
    "    network = LFR_benchmark_graph(\n",
    "        n, tau1, tau2, mu, average_degree=5, min_community=20, seed=10\n",
    "    )\n",
    "    start_time1 = time.time()\n",
    "    result = revised_girvan(network)\n",
    "    communities = next(result)\n",
    "    exec_time = (time.time() - start_time1)\n",
    "    print(i)\n",
    "    mus1.append(mu)\n",
    "    exec_times1.append(exec_time)\n",
    "    mu += 0.01"
   ]
  },
  {
   "cell_type": "code",
   "execution_count": 186,
   "id": "af336204",
   "metadata": {
    "scrolled": true
   },
   "outputs": [
    {
     "name": "stdout",
     "output_type": "stream",
     "text": [
      "0\n",
      "1\n",
      "2\n",
      "3\n",
      "4\n",
      "5\n",
      "6\n",
      "7\n",
      "8\n",
      "9\n",
      "10\n",
      "11\n",
      "12\n",
      "13\n",
      "14\n",
      "15\n",
      "16\n",
      "17\n",
      "18\n",
      "19\n",
      "20\n",
      "21\n",
      "22\n",
      "23\n",
      "24\n",
      "25\n",
      "26\n",
      "27\n",
      "28\n",
      "29\n",
      "30\n",
      "31\n",
      "32\n",
      "33\n",
      "34\n",
      "35\n",
      "36\n",
      "37\n",
      "38\n",
      "39\n",
      "40\n",
      "41\n",
      "42\n",
      "43\n",
      "44\n",
      "45\n",
      "46\n",
      "47\n",
      "48\n"
     ]
    }
   ],
   "source": [
    "mus2 = []\n",
    "exec_times2 = []\n",
    "mu = 0.1\n",
    "for i in range(49):\n",
    "    n = 3000\n",
    "    tau1 = 3\n",
    "    tau2 = 1.5\n",
    "    network = LFR_benchmark_graph(\n",
    "        n, tau1, tau2, mu, average_degree=5, min_community=20, seed=10\n",
    "    )\n",
    "    start_time1 = time.time()\n",
    "    result = revised_girvan(network)\n",
    "    communities = next(result)\n",
    "    exec_time = (time.time() - start_time1)\n",
    "    print(i)\n",
    "    mus2.append(mu)\n",
    "    exec_times2.append(exec_time)\n",
    "    mu += 0.01"
   ]
  },
  {
   "cell_type": "code",
   "execution_count": 190,
   "id": "3f9c78f1",
   "metadata": {
    "scrolled": true
   },
   "outputs": [
    {
     "name": "stdout",
     "output_type": "stream",
     "text": [
      "0\n",
      "1\n",
      "2\n",
      "3\n",
      "4\n",
      "5\n",
      "6\n",
      "7\n",
      "8\n",
      "9\n",
      "10\n",
      "11\n",
      "12\n",
      "13\n",
      "14\n",
      "15\n",
      "16\n",
      "17\n",
      "18\n",
      "19\n",
      "20\n",
      "21\n",
      "22\n",
      "23\n",
      "24\n",
      "25\n",
      "26\n",
      "27\n",
      "28\n",
      "29\n",
      "30\n",
      "31\n",
      "32\n",
      "33\n",
      "34\n",
      "35\n",
      "36\n",
      "37\n",
      "38\n",
      "39\n",
      "40\n",
      "41\n",
      "42\n",
      "43\n",
      "44\n",
      "45\n",
      "46\n",
      "47\n",
      "48\n"
     ]
    }
   ],
   "source": [
    "mus3 = []\n",
    "exec_times3 = []\n",
    "mu = 0.1\n",
    "for i in range(49):\n",
    "    n = 30000\n",
    "    tau1 = 3\n",
    "    tau2 = 1.5\n",
    "    network = LFR_benchmark_graph(\n",
    "        n, tau1, tau2, mu, average_degree=5, min_community=20, seed=10\n",
    "    )\n",
    "    start_time1 = time.time()\n",
    "    result = revised_girvan(network)\n",
    "    communities = next(result)\n",
    "    exec_time = (time.time() - start_time1)\n",
    "    print(i)\n",
    "    mus3.append(mu)\n",
    "    exec_times3.append(exec_time)\n",
    "    mu += 0.01"
   ]
  },
  {
   "cell_type": "code",
   "execution_count": 196,
   "id": "f2330384",
   "metadata": {
    "scrolled": true
   },
   "outputs": [
    {
     "name": "stdout",
     "output_type": "stream",
     "text": [
      "0\n",
      "1\n",
      "2\n",
      "3\n",
      "4\n",
      "5\n",
      "6\n",
      "7\n",
      "8\n",
      "9\n",
      "10\n",
      "11\n",
      "12\n",
      "13\n",
      "14\n",
      "15\n",
      "16\n",
      "17\n",
      "18\n",
      "19\n",
      "20\n",
      "21\n",
      "22\n",
      "23\n",
      "24\n",
      "25\n",
      "26\n",
      "27\n",
      "28\n",
      "29\n",
      "30\n",
      "31\n",
      "32\n",
      "33\n",
      "34\n",
      "35\n",
      "36\n",
      "37\n",
      "38\n",
      "39\n",
      "40\n",
      "41\n",
      "42\n",
      "43\n",
      "44\n",
      "45\n",
      "46\n",
      "47\n",
      "48\n"
     ]
    }
   ],
   "source": [
    "mus4 = []\n",
    "exec_times4 = []\n",
    "mu = 0.1\n",
    "for i in range(49):\n",
    "    n = 15000\n",
    "    tau1 = 3\n",
    "    tau2 = 1.5\n",
    "    network = LFR_benchmark_graph(\n",
    "        n, tau1, tau2, mu, average_degree=5, min_community=20, seed=10\n",
    "    )\n",
    "    start_time1 = time.time()\n",
    "    result = revised_girvan(network)\n",
    "    communities = next(result)\n",
    "    exec_time = (time.time() - start_time1)\n",
    "    print(i)\n",
    "    mus4.append(mu)\n",
    "    exec_times4.append(exec_time)\n",
    "    mu += 0.01"
   ]
  },
  {
   "cell_type": "code",
   "execution_count": 197,
   "id": "ccadae67",
   "metadata": {},
   "outputs": [],
   "source": [
    "mus = []\n",
    "exec_times = []\n",
    "mus.append(mus1)\n",
    "mus.append(mus2)\n",
    "mus.append(mus3)\n",
    "mus.append(mus4)\n",
    "exec_times.append(exec_times1)\n",
    "exec_times.append(exec_times2)\n",
    "exec_times.append(exec_times3)\n",
    "exec_times.append(exec_times4)"
   ]
  },
  {
   "cell_type": "code",
   "execution_count": 213,
   "id": "73c68a73",
   "metadata": {
    "scrolled": false
   },
   "outputs": [
    {
     "data": {
      "image/png": "[encoded data removed]",
      "text/plain": [
       "<Figure size 1500x1000 with 1 Axes>"
      ]
     },
     "metadata": {},
     "output_type": "display_data"
    }
   ],
   "source": [
    "markers = [\",\" , \"o\"  , \"v\" ,\"^\"]\n",
    "colors = ['r','g','b', \"c\"]\n",
    "\n",
    "for i in range(4): #for each of the 7 features \n",
    "    mi = markers[i] #marker for ith feature \n",
    "    xi = mus[i]\n",
    "    yi = exec_times[i]\n",
    "    ci = colors[i] #color for ith feature \n",
    "    plt.title(\"revised_girvan_2 epsilon=0.3 delta=0.5\")\n",
    "    plt.xlabel(\"Mixing parameter, μ\")\n",
    "    plt.ylabel(\"Time(s)\")\n",
    "    plt.scatter(xi,yi,marker=mi, color=ci) \n",
    "plt.show() "
   ]
  },
  {
   "cell_type": "code",
   "execution_count": 227,
   "id": "d7fbeffb",
   "metadata": {
    "scrolled": true
   },
   "outputs": [
    {
     "name": "stdout",
     "output_type": "stream",
     "text": [
      "0\n",
      "1\n",
      "2\n",
      "3\n",
      "4\n",
      "5\n",
      "6\n",
      "7\n",
      "8\n",
      "9\n",
      "10\n",
      "11\n",
      "12\n",
      "13\n",
      "14\n",
      "15\n",
      "16\n",
      "17\n",
      "18\n",
      "19\n"
     ]
    }
   ],
   "source": [
    "ns1 = []\n",
    "exec_times1 = []\n",
    "n = 250\n",
    "for i in range(20):\n",
    "    mu = 0.3\n",
    "    tau1 = 3\n",
    "    tau2 = 1.5\n",
    "    network = LFR_benchmark_graph(\n",
    "        n, tau1, tau2, mu, average_degree=5, min_community=50, seed=10\n",
    "    )\n",
    "    start_time1 = time.time()\n",
    "    result = revised_girvan(network)\n",
    "    communities = next(result)\n",
    "    exec_time = (time.time() - start_time1)\n",
    "    print(i)\n",
    "    ns1.append(n)\n",
    "    exec_times1.append(exec_time)\n",
    "    n += 500"
   ]
  },
  {
   "cell_type": "code",
   "execution_count": 234,
   "id": "74532740",
   "metadata": {},
   "outputs": [
    {
     "name": "stdout",
     "output_type": "stream",
     "text": [
      "0\n",
      "1\n",
      "2\n",
      "3\n",
      "4\n",
      "5\n",
      "6\n",
      "7\n",
      "8\n",
      "9\n",
      "10\n",
      "11\n",
      "12\n",
      "13\n",
      "14\n",
      "15\n",
      "16\n",
      "17\n",
      "18\n",
      "19\n"
     ]
    }
   ],
   "source": [
    "ns2 = []\n",
    "exec_times2 = []\n",
    "n = 250\n",
    "for i in range(20):\n",
    "    mu = 0.4\n",
    "    tau1 = 3\n",
    "    tau2 = 1.5\n",
    "    network = LFR_benchmark_graph(\n",
    "        n, tau1, tau2, mu, average_degree=5, min_community=50, seed=10\n",
    "    )\n",
    "    start_time1 = time.time()\n",
    "    result = revised_girvan(network)\n",
    "    communities = next(result)\n",
    "    exec_time = (time.time() - start_time1)\n",
    "    print(i)\n",
    "    ns2.append(n)\n",
    "    exec_times2.append(exec_time)\n",
    "    n += 500"
   ]
  },
  {
   "cell_type": "code",
   "execution_count": 235,
   "id": "590efbe3",
   "metadata": {},
   "outputs": [
    {
     "name": "stdout",
     "output_type": "stream",
     "text": [
      "0\n",
      "1\n",
      "2\n",
      "3\n",
      "4\n",
      "5\n",
      "6\n",
      "7\n",
      "8\n",
      "9\n",
      "10\n",
      "11\n",
      "12\n",
      "13\n",
      "14\n",
      "15\n",
      "16\n",
      "17\n",
      "18\n",
      "19\n"
     ]
    }
   ],
   "source": [
    "ns3 = []\n",
    "exec_times3 = []\n",
    "n = 250\n",
    "for i in range(20):\n",
    "    mu = 0.5\n",
    "    tau1 = 3\n",
    "    tau2 = 1.5\n",
    "    network = LFR_benchmark_graph(\n",
    "        n, tau1, tau2, mu, average_degree=5, min_community=50, seed=10\n",
    "    )\n",
    "    start_time1 = time.time()\n",
    "    result = revised_girvan(network)\n",
    "    communities = next(result)\n",
    "    exec_time = (time.time() - start_time1)\n",
    "    print(i)\n",
    "    ns3.append(n)\n",
    "    exec_times3.append(exec_time)\n",
    "    n += 500"
   ]
  },
  {
   "cell_type": "code",
   "execution_count": 236,
   "id": "b8467c3f",
   "metadata": {},
   "outputs": [],
   "source": [
    "ns = []\n",
    "exec_times = []\n",
    "ns.append(ns1)\n",
    "ns.append(ns2)\n",
    "ns.append(ns3)\n",
    "exec_times.append(exec_times1)\n",
    "exec_times.append(exec_times2)\n",
    "exec_times.append(exec_times3)"
   ]
  },
  {
   "cell_type": "code",
   "execution_count": 237,
   "id": "c648abc4",
   "metadata": {},
   "outputs": [
    {
     "data": {
      "image/png": "[encoded data removed]",
      "text/plain": [
       "<Figure size 1500x1000 with 1 Axes>"
      ]
     },
     "metadata": {},
     "output_type": "display_data"
    }
   ],
   "source": [
    "markers = [\",\" , \"o\"  , \"v\" ,\"^\"]\n",
    "colors = ['r','g','b', \"c\"]\n",
    "\n",
    "for i in range(3): #for each of the 7 features \n",
    "    mi = markers[i] #marker for ith feature \n",
    "    xi = ns[i]\n",
    "    yi = exec_times[i]\n",
    "    ci = colors[i] #color for ith feature \n",
    "    plt.title(\"revised_girvan_2 epsilon=0.3 delta=0.5\")\n",
    "    plt.xlabel(\"Node numbers, N\")\n",
    "    plt.ylabel(\"Time(s)\")\n",
    "    plt.scatter(xi,yi,marker=mi, color=ci) \n",
    "plt.show() "
   ]
  }
 ],
 "metadata": {
  "kernelspec": {
   "display_name": "Python 3 (ipykernel)",
   "language": "python",
   "name": "python3"
  },
  "language_info": {
   "codemirror_mode": {
    "name": "ipython",
    "version": 3
   },
   "file_extension": ".py",
   "mimetype": "text/x-python",
   "name": "python",
   "nbconvert_exporter": "python",
   "pygments_lexer": "ipython3",
   "version": "3.9.7"
  }
 },
 "nbformat": 4,
 "nbformat_minor": 5
}
